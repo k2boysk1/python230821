{
 "cells": [
  {
   "cell_type": "code",
   "execution_count": 1,
   "id": "cbf0b3eb",
   "metadata": {},
   "outputs": [],
   "source": [
    "import pandas as pd\n"
   ]
  },
  {
   "cell_type": "code",
   "execution_count": 3,
   "id": "84562d7b",
   "metadata": {},
   "outputs": [],
   "source": [
    "import time\n"
   ]
  },
  {
   "cell_type": "code",
   "execution_count": 4,
   "id": "bfcd2fc2",
   "metadata": {},
   "outputs": [
    {
     "data": {
      "text/plain": [
       "time.struct_time(tm_year=2023, tm_mon=8, tm_mday=24, tm_hour=21, tm_min=30, tm_sec=10, tm_wday=3, tm_yday=236, tm_isdst=0)"
      ]
     },
     "execution_count": 4,
     "metadata": {},
     "output_type": "execute_result"
    }
   ],
   "source": [
    "time.localtime()"
   ]
  },
  {
   "cell_type": "code",
   "execution_count": null,
   "id": "0ed062d3",
   "metadata": {},
   "outputs": [],
   "source": [
    "\n",
    "1+!"
   ]
  },
  {
   "cell_type": "code",
   "execution_count": null,
   "id": "946ae10e",
   "metadata": {},
   "outputs": [],
   "source": [
    "\n",
    "\n"
   ]
  },
  {
   "cell_type": "code",
   "execution_count": null,
   "id": "54dc5cbc",
   "metadata": {},
   "outputs": [],
   "source": [
    "bike_data = pd.read_csv('birth.csv')"
   ]
  },
  {
   "cell_type": "code",
   "execution_count": null,
   "id": "685db53f",
   "metadata": {},
   "outputs": [],
   "source": [
    "bike_data"
   ]
  },
  {
   "cell_type": "code",
   "execution_count": null,
   "id": "c8d37da2",
   "metadata": {},
   "outputs": [],
   "source": [
    "print(bike_data)"
   ]
  },
  {
   "cell_type": "code",
   "execution_count": null,
   "id": "155286a6",
   "metadata": {},
   "outputs": [],
   "source": [
    "bike_data.isnull()"
   ]
  },
  {
   "cell_type": "code",
   "execution_count": null,
   "id": "b2d079b6",
   "metadata": {},
   "outputs": [],
   "source": [
    "bike_data.isnull().sum()"
   ]
  },
  {
   "cell_type": "code",
   "execution_count": null,
   "id": "7c79dd05",
   "metadata": {},
   "outputs": [],
   "source": []
  },
  {
   "cell_type": "code",
   "execution_count": null,
   "id": "bc52a610",
   "metadata": {},
   "outputs": [],
   "source": []
  },
  {
   "cell_type": "code",
   "execution_count": null,
   "id": "be911a2f",
   "metadata": {},
   "outputs": [],
   "source": [
    "bike_data.describe()"
   ]
  },
  {
   "cell_type": "code",
   "execution_count": null,
   "id": "d0f658d7",
   "metadata": {},
   "outputs": [],
   "source": [
    "dir()"
   ]
  },
  {
   "cell_type": "markdown",
   "id": "93dfe6bb",
   "metadata": {},
   "source": []
  },
  {
   "cell_type": "markdown",
   "id": "617c507f",
   "metadata": {},
   "source": [
    "xdf"
   ]
  },
  {
   "cell_type": "code",
   "execution_count": null,
   "id": "dc4b777d",
   "metadata": {},
   "outputs": [],
   "source": []
  }
 ],
 "metadata": {
  "kernelspec": {
   "display_name": "Python 3 (ipykernel)",
   "language": "python",
   "name": "python3"
  },
  "language_info": {
   "codemirror_mode": {
    "name": "ipython",
    "version": 3
   },
   "file_extension": ".py",
   "mimetype": "text/x-python",
   "name": "python",
   "nbconvert_exporter": "python",
   "pygments_lexer": "ipython3",
   "version": "3.11.3"
  }
 },
 "nbformat": 4,
 "nbformat_minor": 5
}
