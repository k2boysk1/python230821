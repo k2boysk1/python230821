{
 "cells": [
  {
   "cell_type": "code",
<<<<<<< HEAD
   "execution_count": 1,
=======
   "execution_count": 3,
>>>>>>> ca2e34985a2cec825b08150252181715ee35e921
   "metadata": {},
   "outputs": [
    {
     "data": {
      "text/html": [
       "<div>\n",
       "<style scoped>\n",
       "    .dataframe tbody tr th:only-of-type {\n",
       "        vertical-align: middle;\n",
       "    }\n",
       "\n",
       "    .dataframe tbody tr th {\n",
       "        vertical-align: top;\n",
       "    }\n",
       "\n",
       "    .dataframe thead th {\n",
       "        text-align: right;\n",
       "    }\n",
       "</style>\n",
       "<table border=\"1\" class=\"dataframe\">\n",
       "  <thead>\n",
       "    <tr style=\"text-align: right;\">\n",
       "      <th></th>\n",
       "      <th>사번</th>\n",
       "      <th>성별</th>\n",
       "      <th>나이</th>\n",
       "      <th>판매금액</th>\n",
       "      <th>수입</th>\n",
       "    </tr>\n",
       "  </thead>\n",
       "  <tbody>\n",
       "    <tr>\n",
       "      <th>0</th>\n",
       "      <td>E001</td>\n",
       "      <td>M</td>\n",
       "      <td>34</td>\n",
       "      <td>123</td>\n",
       "      <td>350</td>\n",
       "    </tr>\n",
       "    <tr>\n",
       "      <th>1</th>\n",
       "      <td>E002</td>\n",
       "      <td>F</td>\n",
       "      <td>40</td>\n",
       "      <td>114</td>\n",
       "      <td>450</td>\n",
       "    </tr>\n",
       "    <tr>\n",
       "      <th>2</th>\n",
       "      <td>E003</td>\n",
       "      <td>F</td>\n",
       "      <td>37</td>\n",
       "      <td>135</td>\n",
       "      <td>169</td>\n",
       "    </tr>\n",
       "    <tr>\n",
       "      <th>3</th>\n",
       "      <td>E004</td>\n",
       "      <td>M</td>\n",
       "      <td>30</td>\n",
       "      <td>139</td>\n",
       "      <td>189</td>\n",
       "    </tr>\n",
       "    <tr>\n",
       "      <th>4</th>\n",
       "      <td>E005</td>\n",
       "      <td>F</td>\n",
       "      <td>44</td>\n",
       "      <td>117</td>\n",
       "      <td>183</td>\n",
       "    </tr>\n",
       "    <tr>\n",
       "      <th>5</th>\n",
       "      <td>E006</td>\n",
       "      <td>M</td>\n",
       "      <td>36</td>\n",
       "      <td>121</td>\n",
       "      <td>90</td>\n",
       "    </tr>\n",
       "    <tr>\n",
       "      <th>6</th>\n",
       "      <td>E007</td>\n",
       "      <td>M</td>\n",
       "      <td>32</td>\n",
       "      <td>133</td>\n",
       "      <td>166</td>\n",
       "    </tr>\n",
       "    <tr>\n",
       "      <th>7</th>\n",
       "      <td>E008</td>\n",
       "      <td>F</td>\n",
       "      <td>26</td>\n",
       "      <td>140</td>\n",
       "      <td>120</td>\n",
       "    </tr>\n",
       "    <tr>\n",
       "      <th>8</th>\n",
       "      <td>E009</td>\n",
       "      <td>M</td>\n",
       "      <td>32</td>\n",
       "      <td>133</td>\n",
       "      <td>75</td>\n",
       "    </tr>\n",
       "    <tr>\n",
       "      <th>9</th>\n",
       "      <td>E010</td>\n",
       "      <td>M</td>\n",
       "      <td>36</td>\n",
       "      <td>133</td>\n",
       "      <td>40</td>\n",
       "    </tr>\n",
       "  </tbody>\n",
       "</table>\n",
       "</div>"
      ],
      "text/plain": [
       "     사번 성별  나이  판매금액   수입\n",
       "0  E001  M  34   123  350\n",
       "1  E002  F  40   114  450\n",
       "2  E003  F  37   135  169\n",
       "3  E004  M  30   139  189\n",
       "4  E005  F  44   117  183\n",
       "5  E006  M  36   121   90\n",
       "6  E007  M  32   133  166\n",
       "7  E008  F  26   140  120\n",
       "8  E009  M  32   133   75\n",
       "9  E010  M  36   133   40"
      ]
     },
<<<<<<< HEAD
     "execution_count": 1,
=======
     "execution_count": 3,
>>>>>>> ca2e34985a2cec825b08150252181715ee35e921
     "metadata": {},
     "output_type": "execute_result"
    }
   ],
   "source": [
    "#엑셀 파일 읽기\n",
    "import pandas as pd \n",
    "dfExcel = pd.read_excel('c:\\\\work\\\\demo.xlsx', 'Sheet1')\n",
    "\n",
    "dfExcel"
   ]
  },
  {
   "cell_type": "code",
<<<<<<< HEAD
   "execution_count": 2,
=======
   "execution_count": 4,
>>>>>>> ca2e34985a2cec825b08150252181715ee35e921
   "metadata": {},
   "outputs": [
    {
     "ename": "NameError",
     "evalue": "name 'plt' is not defined",
     "output_type": "error",
     "traceback": [
      "\u001b[1;31m---------------------------------------------------------------------------\u001b[0m",
      "\u001b[1;31mNameError\u001b[0m                                 Traceback (most recent call last)",
<<<<<<< HEAD
      "Cell \u001b[1;32mIn[2], line 3\u001b[0m\n\u001b[0;32m      1\u001b[0m \u001b[39m#남녀별 판매금액 합계 \u001b[39;00m\n\u001b[0;32m      2\u001b[0m var \u001b[39m=\u001b[39m dfExcel\u001b[39m.\u001b[39mgroupby(\u001b[39m'\u001b[39m\u001b[39m성별\u001b[39m\u001b[39m'\u001b[39m)\u001b[39m.\u001b[39m판매금액\u001b[39m.\u001b[39msum()\n\u001b[1;32m----> 3\u001b[0m fig \u001b[39m=\u001b[39m plt\u001b[39m.\u001b[39mfigure()\n\u001b[0;32m      4\u001b[0m ax1 \u001b[39m=\u001b[39m fig\u001b[39m.\u001b[39madd_subplot(\u001b[39m1\u001b[39m, \u001b[39m1\u001b[39m, \u001b[39m1\u001b[39m)\n\u001b[0;32m      5\u001b[0m ax1\u001b[39m.\u001b[39mset_xlabel(\u001b[39m'\u001b[39m\u001b[39m성별\u001b[39m\u001b[39m'\u001b[39m)\n",
=======
      "Cell \u001b[1;32mIn[4], line 3\u001b[0m\n\u001b[0;32m      1\u001b[0m \u001b[39m#남녀별 판매금액 합계 \u001b[39;00m\n\u001b[0;32m      2\u001b[0m var \u001b[39m=\u001b[39m dfExcel\u001b[39m.\u001b[39mgroupby(\u001b[39m'\u001b[39m\u001b[39m성별\u001b[39m\u001b[39m'\u001b[39m)\u001b[39m.\u001b[39m판매금액\u001b[39m.\u001b[39msum()\n\u001b[1;32m----> 3\u001b[0m fig \u001b[39m=\u001b[39m plt\u001b[39m.\u001b[39mfigure()\n\u001b[0;32m      4\u001b[0m ax1 \u001b[39m=\u001b[39m fig\u001b[39m.\u001b[39madd_subplot(\u001b[39m1\u001b[39m, \u001b[39m1\u001b[39m, \u001b[39m1\u001b[39m)\n\u001b[0;32m      5\u001b[0m ax1\u001b[39m.\u001b[39mset_xlabel(\u001b[39m'\u001b[39m\u001b[39m성별\u001b[39m\u001b[39m'\u001b[39m)\n",
>>>>>>> ca2e34985a2cec825b08150252181715ee35e921
      "\u001b[1;31mNameError\u001b[0m: name 'plt' is not defined"
     ]
    }
   ],
   "source": [
    "#남녀별 판매금액 합계 \n",
    "var = dfExcel.groupby('성별').판매금액.sum()\n",
    "fig = plt.figure()\n",
    "ax1 = fig.add_subplot(1, 1, 1)\n",
    "ax1.set_xlabel('성별')\n",
    "ax1.set_ylabel('판매금액 합계')\n",
    "ax1.set_title('남녀별 판매금액 합계')\n",
    "var.plot(kind='bar')"
   ]
  },
  {
   "cell_type": "code",
<<<<<<< HEAD
   "execution_count": 3,
=======
   "execution_count": null,
>>>>>>> ca2e34985a2cec825b08150252181715ee35e921
   "metadata": {},
   "outputs": [
    {
     "data": {
      "text/plain": [
       "Text(0.5, 0, '단계')"
      ]
     },
<<<<<<< HEAD
     "execution_count": 3,
=======
     "execution_count": 1,
>>>>>>> ca2e34985a2cec825b08150252181715ee35e921
     "metadata": {},
     "output_type": "execute_result"
    },
    {
     "name": "stderr",
     "output_type": "stream",
     "text": [
<<<<<<< HEAD
      "C:\\Users\\tekim\\AppData\\Roaming\\Python\\Python310\\site-packages\\IPython\\core\\events.py:93: UserWarning: Glyph 45936 (\\N{HANGUL SYLLABLE DE}) missing from current font.\n",
      "  func(*args, **kwargs)\n",
      "C:\\Users\\tekim\\AppData\\Roaming\\Python\\Python310\\site-packages\\IPython\\core\\events.py:93: UserWarning: Glyph 47784 (\\N{HANGUL SYLLABLE MO}) missing from current font.\n",
      "  func(*args, **kwargs)\n",
      "C:\\Users\\tekim\\AppData\\Roaming\\Python\\Python310\\site-packages\\IPython\\core\\events.py:93: UserWarning: Glyph 52264 (\\N{HANGUL SYLLABLE CA}) missing from current font.\n",
      "  func(*args, **kwargs)\n",
      "C:\\Users\\tekim\\AppData\\Roaming\\Python\\Python310\\site-packages\\IPython\\core\\events.py:93: UserWarning: Glyph 53944 (\\N{HANGUL SYLLABLE TEU}) missing from current font.\n",
      "  func(*args, **kwargs)\n",
      "C:\\Users\\tekim\\AppData\\Roaming\\Python\\Python310\\site-packages\\IPython\\core\\events.py:93: UserWarning: Glyph 54616 (\\N{HANGUL SYLLABLE HA}) missing from current font.\n",
      "  func(*args, **kwargs)\n",
      "C:\\Users\\tekim\\AppData\\Roaming\\Python\\Python310\\site-packages\\IPython\\core\\events.py:93: UserWarning: Glyph 45208 (\\N{HANGUL SYLLABLE NA}) missing from current font.\n",
      "  func(*args, **kwargs)\n",
      "C:\\Users\\tekim\\AppData\\Roaming\\Python\\Python310\\site-packages\\IPython\\core\\events.py:93: UserWarning: Glyph 46168 (\\N{HANGUL SYLLABLE DUL}) missing from current font.\n",
      "  func(*args, **kwargs)\n",
      "C:\\Users\\tekim\\AppData\\Roaming\\Python\\Python310\\site-packages\\IPython\\core\\events.py:93: UserWarning: Glyph 49483 (\\N{HANGUL SYLLABLE SES}) missing from current font.\n",
      "  func(*args, **kwargs)\n",
      "C:\\Users\\tekim\\AppData\\Roaming\\Python\\Python310\\site-packages\\IPython\\core\\events.py:93: UserWarning: Glyph 45367 (\\N{HANGUL SYLLABLE NES}) missing from current font.\n",
      "  func(*args, **kwargs)\n",
      "C:\\Users\\tekim\\AppData\\Roaming\\Python\\Python310\\site-packages\\IPython\\core\\events.py:93: UserWarning: Glyph 45796 (\\N{HANGUL SYLLABLE DA}) missing from current font.\n",
      "  func(*args, **kwargs)\n",
      "C:\\Users\\tekim\\AppData\\Roaming\\Python\\Python310\\site-packages\\IPython\\core\\events.py:93: UserWarning: Glyph 49455 (\\N{HANGUL SYLLABLE SEOS}) missing from current font.\n",
      "  func(*args, **kwargs)\n",
      "C:\\Users\\tekim\\AppData\\Roaming\\Python\\Python310\\site-packages\\IPython\\core\\events.py:93: UserWarning: Glyph 45800 (\\N{HANGUL SYLLABLE DAN}) missing from current font.\n",
      "  func(*args, **kwargs)\n",
      "C:\\Users\\tekim\\AppData\\Roaming\\Python\\Python310\\site-packages\\IPython\\core\\events.py:93: UserWarning: Glyph 44228 (\\N{HANGUL SYLLABLE GYE}) missing from current font.\n",
      "  func(*args, **kwargs)\n",
      "C:\\Users\\tekim\\AppData\\Roaming\\Python\\Python310\\site-packages\\IPython\\core\\pylabtools.py:152: UserWarning: Glyph 45936 (\\N{HANGUL SYLLABLE DE}) missing from current font.\n",
      "  fig.canvas.print_figure(bytes_io, **kw)\n",
      "C:\\Users\\tekim\\AppData\\Roaming\\Python\\Python310\\site-packages\\IPython\\core\\pylabtools.py:152: UserWarning: Glyph 47784 (\\N{HANGUL SYLLABLE MO}) missing from current font.\n",
      "  fig.canvas.print_figure(bytes_io, **kw)\n",
      "C:\\Users\\tekim\\AppData\\Roaming\\Python\\Python310\\site-packages\\IPython\\core\\pylabtools.py:152: UserWarning: Glyph 52264 (\\N{HANGUL SYLLABLE CA}) missing from current font.\n",
      "  fig.canvas.print_figure(bytes_io, **kw)\n",
      "C:\\Users\\tekim\\AppData\\Roaming\\Python\\Python310\\site-packages\\IPython\\core\\pylabtools.py:152: UserWarning: Glyph 53944 (\\N{HANGUL SYLLABLE TEU}) missing from current font.\n",
      "  fig.canvas.print_figure(bytes_io, **kw)\n",
      "C:\\Users\\tekim\\AppData\\Roaming\\Python\\Python310\\site-packages\\IPython\\core\\pylabtools.py:152: UserWarning: Glyph 54616 (\\N{HANGUL SYLLABLE HA}) missing from current font.\n",
      "  fig.canvas.print_figure(bytes_io, **kw)\n",
      "C:\\Users\\tekim\\AppData\\Roaming\\Python\\Python310\\site-packages\\IPython\\core\\pylabtools.py:152: UserWarning: Glyph 45208 (\\N{HANGUL SYLLABLE NA}) missing from current font.\n",
      "  fig.canvas.print_figure(bytes_io, **kw)\n",
      "C:\\Users\\tekim\\AppData\\Roaming\\Python\\Python310\\site-packages\\IPython\\core\\pylabtools.py:152: UserWarning: Glyph 46168 (\\N{HANGUL SYLLABLE DUL}) missing from current font.\n",
      "  fig.canvas.print_figure(bytes_io, **kw)\n",
      "C:\\Users\\tekim\\AppData\\Roaming\\Python\\Python310\\site-packages\\IPython\\core\\pylabtools.py:152: UserWarning: Glyph 49483 (\\N{HANGUL SYLLABLE SES}) missing from current font.\n",
      "  fig.canvas.print_figure(bytes_io, **kw)\n",
      "C:\\Users\\tekim\\AppData\\Roaming\\Python\\Python310\\site-packages\\IPython\\core\\pylabtools.py:152: UserWarning: Glyph 45367 (\\N{HANGUL SYLLABLE NES}) missing from current font.\n",
      "  fig.canvas.print_figure(bytes_io, **kw)\n",
      "C:\\Users\\tekim\\AppData\\Roaming\\Python\\Python310\\site-packages\\IPython\\core\\pylabtools.py:152: UserWarning: Glyph 45796 (\\N{HANGUL SYLLABLE DA}) missing from current font.\n",
      "  fig.canvas.print_figure(bytes_io, **kw)\n",
      "C:\\Users\\tekim\\AppData\\Roaming\\Python\\Python310\\site-packages\\IPython\\core\\pylabtools.py:152: UserWarning: Glyph 49455 (\\N{HANGUL SYLLABLE SEOS}) missing from current font.\n",
      "  fig.canvas.print_figure(bytes_io, **kw)\n",
      "C:\\Users\\tekim\\AppData\\Roaming\\Python\\Python310\\site-packages\\IPython\\core\\pylabtools.py:152: UserWarning: Glyph 45800 (\\N{HANGUL SYLLABLE DAN}) missing from current font.\n",
      "  fig.canvas.print_figure(bytes_io, **kw)\n",
      "C:\\Users\\tekim\\AppData\\Roaming\\Python\\Python310\\site-packages\\IPython\\core\\pylabtools.py:152: UserWarning: Glyph 44228 (\\N{HANGUL SYLLABLE GYE}) missing from current font.\n",
=======
      "C:\\Users\\USER\\AppData\\Roaming\\Python\\Python310\\site-packages\\IPython\\core\\events.py:89: UserWarning: Glyph 45936 (\\N{HANGUL SYLLABLE DE}) missing from current font.\n",
      "  func(*args, **kwargs)\n",
      "C:\\Users\\USER\\AppData\\Roaming\\Python\\Python310\\site-packages\\IPython\\core\\events.py:89: UserWarning: Glyph 47784 (\\N{HANGUL SYLLABLE MO}) missing from current font.\n",
      "  func(*args, **kwargs)\n",
      "C:\\Users\\USER\\AppData\\Roaming\\Python\\Python310\\site-packages\\IPython\\core\\events.py:89: UserWarning: Glyph 52264 (\\N{HANGUL SYLLABLE CA}) missing from current font.\n",
      "  func(*args, **kwargs)\n",
      "C:\\Users\\USER\\AppData\\Roaming\\Python\\Python310\\site-packages\\IPython\\core\\events.py:89: UserWarning: Glyph 53944 (\\N{HANGUL SYLLABLE TEU}) missing from current font.\n",
      "  func(*args, **kwargs)\n",
      "C:\\Users\\USER\\AppData\\Roaming\\Python\\Python310\\site-packages\\IPython\\core\\events.py:89: UserWarning: Glyph 54616 (\\N{HANGUL SYLLABLE HA}) missing from current font.\n",
      "  func(*args, **kwargs)\n",
      "C:\\Users\\USER\\AppData\\Roaming\\Python\\Python310\\site-packages\\IPython\\core\\events.py:89: UserWarning: Glyph 45208 (\\N{HANGUL SYLLABLE NA}) missing from current font.\n",
      "  func(*args, **kwargs)\n",
      "C:\\Users\\USER\\AppData\\Roaming\\Python\\Python310\\site-packages\\IPython\\core\\events.py:89: UserWarning: Glyph 46168 (\\N{HANGUL SYLLABLE DUL}) missing from current font.\n",
      "  func(*args, **kwargs)\n",
      "C:\\Users\\USER\\AppData\\Roaming\\Python\\Python310\\site-packages\\IPython\\core\\events.py:89: UserWarning: Glyph 49483 (\\N{HANGUL SYLLABLE SES}) missing from current font.\n",
      "  func(*args, **kwargs)\n",
      "C:\\Users\\USER\\AppData\\Roaming\\Python\\Python310\\site-packages\\IPython\\core\\events.py:89: UserWarning: Glyph 45367 (\\N{HANGUL SYLLABLE NES}) missing from current font.\n",
      "  func(*args, **kwargs)\n",
      "C:\\Users\\USER\\AppData\\Roaming\\Python\\Python310\\site-packages\\IPython\\core\\events.py:89: UserWarning: Glyph 45796 (\\N{HANGUL SYLLABLE DA}) missing from current font.\n",
      "  func(*args, **kwargs)\n",
      "C:\\Users\\USER\\AppData\\Roaming\\Python\\Python310\\site-packages\\IPython\\core\\events.py:89: UserWarning: Glyph 49455 (\\N{HANGUL SYLLABLE SEOS}) missing from current font.\n",
      "  func(*args, **kwargs)\n",
      "C:\\Users\\USER\\AppData\\Roaming\\Python\\Python310\\site-packages\\IPython\\core\\events.py:89: UserWarning: Glyph 45800 (\\N{HANGUL SYLLABLE DAN}) missing from current font.\n",
      "  func(*args, **kwargs)\n",
      "C:\\Users\\USER\\AppData\\Roaming\\Python\\Python310\\site-packages\\IPython\\core\\events.py:89: UserWarning: Glyph 44228 (\\N{HANGUL SYLLABLE GYE}) missing from current font.\n",
      "  func(*args, **kwargs)\n",
      "C:\\Users\\USER\\AppData\\Roaming\\Python\\Python310\\site-packages\\IPython\\core\\pylabtools.py:152: UserWarning: Glyph 45936 (\\N{HANGUL SYLLABLE DE}) missing from current font.\n",
      "  fig.canvas.print_figure(bytes_io, **kw)\n",
      "C:\\Users\\USER\\AppData\\Roaming\\Python\\Python310\\site-packages\\IPython\\core\\pylabtools.py:152: UserWarning: Glyph 47784 (\\N{HANGUL SYLLABLE MO}) missing from current font.\n",
      "  fig.canvas.print_figure(bytes_io, **kw)\n",
      "C:\\Users\\USER\\AppData\\Roaming\\Python\\Python310\\site-packages\\IPython\\core\\pylabtools.py:152: UserWarning: Glyph 52264 (\\N{HANGUL SYLLABLE CA}) missing from current font.\n",
      "  fig.canvas.print_figure(bytes_io, **kw)\n",
      "C:\\Users\\USER\\AppData\\Roaming\\Python\\Python310\\site-packages\\IPython\\core\\pylabtools.py:152: UserWarning: Glyph 53944 (\\N{HANGUL SYLLABLE TEU}) missing from current font.\n",
      "  fig.canvas.print_figure(bytes_io, **kw)\n",
      "C:\\Users\\USER\\AppData\\Roaming\\Python\\Python310\\site-packages\\IPython\\core\\pylabtools.py:152: UserWarning: Glyph 54616 (\\N{HANGUL SYLLABLE HA}) missing from current font.\n",
      "  fig.canvas.print_figure(bytes_io, **kw)\n",
      "C:\\Users\\USER\\AppData\\Roaming\\Python\\Python310\\site-packages\\IPython\\core\\pylabtools.py:152: UserWarning: Glyph 45208 (\\N{HANGUL SYLLABLE NA}) missing from current font.\n",
      "  fig.canvas.print_figure(bytes_io, **kw)\n",
      "C:\\Users\\USER\\AppData\\Roaming\\Python\\Python310\\site-packages\\IPython\\core\\pylabtools.py:152: UserWarning: Glyph 46168 (\\N{HANGUL SYLLABLE DUL}) missing from current font.\n",
      "  fig.canvas.print_figure(bytes_io, **kw)\n",
      "C:\\Users\\USER\\AppData\\Roaming\\Python\\Python310\\site-packages\\IPython\\core\\pylabtools.py:152: UserWarning: Glyph 49483 (\\N{HANGUL SYLLABLE SES}) missing from current font.\n",
      "  fig.canvas.print_figure(bytes_io, **kw)\n",
      "C:\\Users\\USER\\AppData\\Roaming\\Python\\Python310\\site-packages\\IPython\\core\\pylabtools.py:152: UserWarning: Glyph 45367 (\\N{HANGUL SYLLABLE NES}) missing from current font.\n",
      "  fig.canvas.print_figure(bytes_io, **kw)\n",
      "C:\\Users\\USER\\AppData\\Roaming\\Python\\Python310\\site-packages\\IPython\\core\\pylabtools.py:152: UserWarning: Glyph 45796 (\\N{HANGUL SYLLABLE DA}) missing from current font.\n",
      "  fig.canvas.print_figure(bytes_io, **kw)\n",
      "C:\\Users\\USER\\AppData\\Roaming\\Python\\Python310\\site-packages\\IPython\\core\\pylabtools.py:152: UserWarning: Glyph 49455 (\\N{HANGUL SYLLABLE SEOS}) missing from current font.\n",
      "  fig.canvas.print_figure(bytes_io, **kw)\n",
      "C:\\Users\\USER\\AppData\\Roaming\\Python\\Python310\\site-packages\\IPython\\core\\pylabtools.py:152: UserWarning: Glyph 45800 (\\N{HANGUL SYLLABLE DAN}) missing from current font.\n",
      "  fig.canvas.print_figure(bytes_io, **kw)\n",
      "C:\\Users\\USER\\AppData\\Roaming\\Python\\Python310\\site-packages\\IPython\\core\\pylabtools.py:152: UserWarning: Glyph 44228 (\\N{HANGUL SYLLABLE GYE}) missing from current font.\n",
>>>>>>> ca2e34985a2cec825b08150252181715ee35e921
      "  fig.canvas.print_figure(bytes_io, **kw)\n"
     ]
    },
    {
     "data": {
<<<<<<< HEAD
      "image/png": "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",
=======
      "image/png": "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",
>>>>>>> ca2e34985a2cec825b08150252181715ee35e921
      "text/plain": [
       "<Figure size 1000x600 with 1 Axes>"
      ]
     },
     "metadata": {},
     "output_type": "display_data"
    }
   ],
   "source": [
    "#눈금과 눈금간격, 범례를 지정하기 \n",
    "%matplotlib inline\n",
    "import matplotlib.pyplot as plt \n",
    "import numpy as np \n",
    "\n",
    "fig = plt.figure(figsize=(10,6))\n",
    "ax = fig.add_subplot(1, 1, 1)\n",
    "ax.plot(np.random.randn(1000).cumsum())\n",
    "ticks = ax.set_xticks([0, 250, 500, 750, 1000])\n",
    "labels = ax.set_xticklabels(['하나', '둘', '셋', '넷', '다섯'], \n",
    "    rotation=30, fontsize='large')\n",
    "ax.set_title('데모 차트')\n",
    "ax.set_xlabel('단계')"
   ]
  },
  {
   "cell_type": "code",
<<<<<<< HEAD
   "execution_count": null,
=======
   "execution_count": 23,
>>>>>>> ca2e34985a2cec825b08150252181715ee35e921
   "metadata": {},
   "outputs": [
    {
     "data": {
      "text/plain": [
       "key1  key2\n",
       "a     one     2\n",
       "      two     1\n",
       "b     one     1\n",
       "      two     1\n",
       "Name: data1, dtype: int64"
      ]
     },
     "execution_count": 23,
     "metadata": {},
     "output_type": "execute_result"
    }
   ],
   "source": [
    "#groupby()메서드 사용 \n",
    "from pandas import Series, DataFrame\n",
    "import numpy as np \n",
    "\n",
    "df = DataFrame({'key1':['a','a','b','b','a'], \n",
    "                'key2':['one','two','one','two','one'], \n",
    "                'data1':np.random.randn(5), \n",
    "                'data2':np.random.randn(5)})\n",
    "\n",
    "#df\n",
    "\n",
    "# grouped = df.groupby(\"key1\")[\"data1\"]\n",
    "\n",
    "# type(grouped)\n",
    "\n",
    "#메서드체인(함수체인)\n",
    "#복합키를 사용 \n",
    "df.groupby([\"key1\",\"key2\"])[\"data1\"].count() "
   ]
  },
  {
   "cell_type": "code",
   "execution_count": null,
   "metadata": {},
   "outputs": [
    {
     "name": "stdout",
     "output_type": "stream",
     "text": [
      "key1\n",
      "a    1.198385\n",
      "b   -0.248144\n",
      "Name: data1, dtype: float64\n",
      "key1\n",
      "a    3.595156\n",
      "b   -0.496289\n",
      "Name: data1, dtype: float64\n",
      "key1\n",
      "a    3\n",
      "b    2\n",
      "Name: data1, dtype: int64\n"
     ]
    }
   ],
   "source": [
    "print( grouped.mean() )\n",
    "print( grouped.sum() )\n",
    "print( grouped.count() )"
   ]
  },
  {
   "cell_type": "code",
<<<<<<< HEAD
   "execution_count": 4,
   "metadata": {},
   "outputs": [
    {
     "ename": "NameError",
     "evalue": "name 'df' is not defined",
     "output_type": "error",
     "traceback": [
      "\u001b[1;31m---------------------------------------------------------------------------\u001b[0m",
      "\u001b[1;31mNameError\u001b[0m                                 Traceback (most recent call last)",
      "Cell \u001b[1;32mIn[4], line 1\u001b[0m\n\u001b[1;32m----> 1\u001b[0m means \u001b[39m=\u001b[39m df\u001b[39m.\u001b[39mgroupby( [\u001b[39m\"\u001b[39m\u001b[39mkey1\u001b[39m\u001b[39m\"\u001b[39m,\u001b[39m\"\u001b[39m\u001b[39mkey2\u001b[39m\u001b[39m\"\u001b[39m] )[\u001b[39m\"\u001b[39m\u001b[39mdata1\u001b[39m\u001b[39m\"\u001b[39m]\u001b[39m.\u001b[39mmean()\n\u001b[0;32m      2\u001b[0m means\n",
      "\u001b[1;31mNameError\u001b[0m: name 'df' is not defined"
     ]
=======
   "execution_count": null,
   "metadata": {},
   "outputs": [
    {
     "data": {
      "text/plain": [
       "key1  key2\n",
       "a     one     0.200187\n",
       "      two     0.812707\n",
       "b     one     1.492476\n",
       "      two    -0.250131\n",
       "Name: data1, dtype: float64"
      ]
     },
     "execution_count": 15,
     "metadata": {},
     "output_type": "execute_result"
>>>>>>> ca2e34985a2cec825b08150252181715ee35e921
    }
   ],
   "source": [
    "means = df.groupby( [\"key1\",\"key2\"] )[\"data1\"].mean()\n",
    "means"
   ]
  },
  {
   "cell_type": "code",
   "execution_count": null,
   "metadata": {
    "collapsed": true
   },
   "outputs": [],
   "source": [
    "# concat 메서드는 기본적으로 같은 컬럼 레이블을 갖는 \n",
    "# 데이터프레임 객체를 위/아래로 연결합니다. \n",
    "# axis=1 파라미터를 전달하면 리스트로 전달된 데이터프레임을 \n",
    "# 좌/우로 연결합니다. \n",
    "# 이때 데이터프레임들은 인덱스를 기준으로 데이터를 연결합니다.\n",
    "from pandas import DataFrame \n",
    "import pandas as pd \n",
    "#첫번째 데이터프레임\n",
    "data = { \n",
    "        '종가':[113000,111500],\n",
    "        '거래량':[555850, 282163]\n",
    "        }\n",
    "index = ['2019-06-21','2019-06-20']\n",
    "df1 = DataFrame(data=data, index=index)\n",
    "#두번째\n",
    "data = { \n",
    "        '시가':[112500,111000],\n",
    "        '고가':[115000, 112000],\n",
    "        '저가':[111500, 109000]\n",
    "        }\n",
    "index = ['2019-06-21','2019-06-20']\n",
    "df2 = DataFrame(data=data, index=index)"
   ]
  },
  {
   "cell_type": "code",
   "execution_count": null,
   "metadata": {},
   "outputs": [
    {
     "data": {
      "text/html": [
       "<div>\n",
       "<style scoped>\n",
       "    .dataframe tbody tr th:only-of-type {\n",
       "        vertical-align: middle;\n",
       "    }\n",
       "\n",
       "    .dataframe tbody tr th {\n",
       "        vertical-align: top;\n",
       "    }\n",
       "\n",
       "    .dataframe thead th {\n",
       "        text-align: right;\n",
       "    }\n",
       "</style>\n",
       "<table border=\"1\" class=\"dataframe\">\n",
       "  <thead>\n",
       "    <tr style=\"text-align: right;\">\n",
       "      <th></th>\n",
       "      <th>종가</th>\n",
       "      <th>거래량</th>\n",
       "      <th>시가</th>\n",
       "      <th>고가</th>\n",
       "      <th>저가</th>\n",
       "    </tr>\n",
       "  </thead>\n",
       "  <tbody>\n",
       "    <tr>\n",
       "      <th>2019-06-21</th>\n",
       "      <td>113000</td>\n",
       "      <td>555850</td>\n",
       "      <td>112500</td>\n",
       "      <td>115000</td>\n",
       "      <td>111500</td>\n",
       "    </tr>\n",
       "    <tr>\n",
       "      <th>2019-06-20</th>\n",
       "      <td>111500</td>\n",
       "      <td>282163</td>\n",
       "      <td>111000</td>\n",
       "      <td>112000</td>\n",
       "      <td>109000</td>\n",
       "    </tr>\n",
       "  </tbody>\n",
       "</table>\n",
       "</div>"
      ],
      "text/plain": [
       "                종가     거래량      시가      고가      저가\n",
       "2019-06-21  113000  555850  112500  115000  111500\n",
       "2019-06-20  111500  282163  111000  112000  109000"
      ]
     },
     "execution_count": 3,
     "metadata": {},
     "output_type": "execute_result"
    }
   ],
   "source": [
    "df = pd.concat([df1, df2], axis=1)\n",
    "#좌우로 붙이기 \n",
    "df\n"
   ]
  },
  {
   "cell_type": "code",
   "execution_count": null,
   "metadata": {},
   "outputs": [
    {
     "name": "stdout",
     "output_type": "stream",
     "text": [
      "---정렬순서를 변경---\n"
     ]
    },
    {
     "data": {
      "text/html": [
       "<div>\n",
       "<style scoped>\n",
       "    .dataframe tbody tr th:only-of-type {\n",
       "        vertical-align: middle;\n",
       "    }\n",
       "\n",
       "    .dataframe tbody tr th {\n",
       "        vertical-align: top;\n",
       "    }\n",
       "\n",
       "    .dataframe thead th {\n",
       "        text-align: right;\n",
       "    }\n",
       "</style>\n",
       "<table border=\"1\" class=\"dataframe\">\n",
       "  <thead>\n",
       "    <tr style=\"text-align: right;\">\n",
       "      <th></th>\n",
       "      <th>시가</th>\n",
       "      <th>고가</th>\n",
       "      <th>저가</th>\n",
       "      <th>종가</th>\n",
       "      <th>거래량</th>\n",
       "    </tr>\n",
       "  </thead>\n",
       "  <tbody>\n",
       "    <tr>\n",
       "      <th>2019-06-21</th>\n",
       "      <td>112500</td>\n",
       "      <td>115000</td>\n",
       "      <td>111500</td>\n",
       "      <td>113000</td>\n",
       "      <td>555850</td>\n",
       "    </tr>\n",
       "    <tr>\n",
       "      <th>2019-06-20</th>\n",
       "      <td>111000</td>\n",
       "      <td>112000</td>\n",
       "      <td>109000</td>\n",
       "      <td>111500</td>\n",
       "      <td>282163</td>\n",
       "    </tr>\n",
       "  </tbody>\n",
       "</table>\n",
       "</div>"
      ],
      "text/plain": [
       "                시가      고가      저가      종가     거래량\n",
       "2019-06-21  112500  115000  111500  113000  555850\n",
       "2019-06-20  111000  112000  109000  111500  282163"
      ]
     },
     "execution_count": 34,
     "metadata": {},
     "output_type": "execute_result"
    }
   ],
   "source": [
    "#컬럼을 순서를 변경해 봅니다.\n",
    "print(\"---정렬순서를 변경---\")\n",
    "정렬순서 = ['시가','고가','저가','종가','거래량']\n",
    "df = df[정렬순서]\n",
    "df"
   ]
  },
  {
   "cell_type": "code",
<<<<<<< HEAD
   "execution_count": null,
=======
   "execution_count": 5,
>>>>>>> ca2e34985a2cec825b08150252181715ee35e921
   "metadata": {},
   "outputs": [
    {
     "name": "stdout",
     "output_type": "stream",
     "text": [
      "                종가     거래량\n",
      "2019-06-21  113000  555850\n",
      "2019-06-20  111500  282163\n",
      "                종가     거래량\n",
      "2019-06-19  110000  109000\n",
      "2019-06-18  483689  791946\n"
     ]
    }
   ],
   "source": [
    "#위/아래로 붙이기 \n",
    "# 이번에는 데이터프레임을 위/아래로 이어 붙여 보겠습니다. \n",
    "# 두 개의 데이터프레임의 컬럼을 기준으로 정렬한 후 위/아래로 붙여서 \n",
    "# 새로운 데이터프레임을 생성할 수 있습니다. \n",
    "from pandas import DataFrame\n",
    "import pandas as pd\n",
    "\n",
    "# 첫 번째 데이터프레임\n",
    "data = {\n",
    "    '종가': [113000, 111500],\n",
    "    '거래량': [555850, 282163]\n",
    "}\n",
    "index = [\"2019-06-21\", \"2019-06-20\"]\n",
    "df1 = DataFrame(data, index=index)\n",
    "\n",
    "# 두 번째 데이터프레임\n",
    "data = {\n",
    "    '종가': [110000, 483689],\n",
    "    '거래량': [109000, 791946]\n",
    "}\n",
    "index = [\"2019-06-19\", \"2019-06-18\"]\n",
    "df2 = DataFrame(data, index=index)\n",
    "\n",
    "print( df1 )\n",
    "print( df2 )"
   ]
  },
  {
   "cell_type": "code",
<<<<<<< HEAD
   "execution_count": null,
=======
   "execution_count": 6,
>>>>>>> ca2e34985a2cec825b08150252181715ee35e921
   "metadata": {},
   "outputs": [
    {
     "name": "stdout",
     "output_type": "stream",
     "text": [
      "---위아래 붙이기---\n"
     ]
    },
    {
     "ename": "AttributeError",
     "evalue": "'DataFrame' object has no attribute 'append'",
     "output_type": "error",
     "traceback": [
      "\u001b[1;31m---------------------------------------------------------------------------\u001b[0m",
      "\u001b[1;31mAttributeError\u001b[0m                            Traceback (most recent call last)",
      "Cell \u001b[1;32mIn[6], line 2\u001b[0m\n\u001b[0;32m      1\u001b[0m \u001b[39mprint\u001b[39m(\u001b[39m\"\u001b[39m\u001b[39m---위아래 붙이기---\u001b[39m\u001b[39m\"\u001b[39m)\n\u001b[1;32m----> 2\u001b[0m df \u001b[39m=\u001b[39m df1\u001b[39m.\u001b[39;49mappend(df2)\n\u001b[0;32m      3\u001b[0m df\n",
      "File \u001b[1;32mc:\\Python310\\lib\\site-packages\\pandas\\core\\generic.py:5989\u001b[0m, in \u001b[0;36mNDFrame.__getattr__\u001b[1;34m(self, name)\u001b[0m\n\u001b[0;32m   5982\u001b[0m \u001b[39mif\u001b[39;00m (\n\u001b[0;32m   5983\u001b[0m     name \u001b[39mnot\u001b[39;00m \u001b[39min\u001b[39;00m \u001b[39mself\u001b[39m\u001b[39m.\u001b[39m_internal_names_set\n\u001b[0;32m   5984\u001b[0m     \u001b[39mand\u001b[39;00m name \u001b[39mnot\u001b[39;00m \u001b[39min\u001b[39;00m \u001b[39mself\u001b[39m\u001b[39m.\u001b[39m_metadata\n\u001b[0;32m   5985\u001b[0m     \u001b[39mand\u001b[39;00m name \u001b[39mnot\u001b[39;00m \u001b[39min\u001b[39;00m \u001b[39mself\u001b[39m\u001b[39m.\u001b[39m_accessors\n\u001b[0;32m   5986\u001b[0m     \u001b[39mand\u001b[39;00m \u001b[39mself\u001b[39m\u001b[39m.\u001b[39m_info_axis\u001b[39m.\u001b[39m_can_hold_identifiers_and_holds_name(name)\n\u001b[0;32m   5987\u001b[0m ):\n\u001b[0;32m   5988\u001b[0m     \u001b[39mreturn\u001b[39;00m \u001b[39mself\u001b[39m[name]\n\u001b[1;32m-> 5989\u001b[0m \u001b[39mreturn\u001b[39;00m \u001b[39mobject\u001b[39;49m\u001b[39m.\u001b[39;49m\u001b[39m__getattribute__\u001b[39;49m(\u001b[39mself\u001b[39;49m, name)\n",
      "\u001b[1;31mAttributeError\u001b[0m: 'DataFrame' object has no attribute 'append'"
     ]
    }
   ],
   "source": [
    "print(\"---위아래 붙이기---\")\n",
    "df = df1.append(df2)\n",
    "df"
   ]
  },
  {
   "cell_type": "code",
<<<<<<< HEAD
   "execution_count": null,
=======
   "execution_count": 7,
>>>>>>> ca2e34985a2cec825b08150252181715ee35e921
   "metadata": {},
   "outputs": [
    {
     "name": "stdout",
     "output_type": "stream",
     "text": [
      "---concat메서드로 위아래 붙이기---\n"
     ]
    },
    {
     "data": {
      "text/html": [
       "<div>\n",
       "<style scoped>\n",
       "    .dataframe tbody tr th:only-of-type {\n",
       "        vertical-align: middle;\n",
       "    }\n",
       "\n",
       "    .dataframe tbody tr th {\n",
       "        vertical-align: top;\n",
       "    }\n",
       "\n",
       "    .dataframe thead th {\n",
       "        text-align: right;\n",
       "    }\n",
       "</style>\n",
       "<table border=\"1\" class=\"dataframe\">\n",
       "  <thead>\n",
       "    <tr style=\"text-align: right;\">\n",
       "      <th></th>\n",
       "      <th>종가</th>\n",
       "      <th>거래량</th>\n",
       "    </tr>\n",
       "  </thead>\n",
       "  <tbody>\n",
       "    <tr>\n",
       "      <th>2019-06-21</th>\n",
       "      <td>113000</td>\n",
       "      <td>555850</td>\n",
       "    </tr>\n",
       "    <tr>\n",
       "      <th>2019-06-20</th>\n",
       "      <td>111500</td>\n",
       "      <td>282163</td>\n",
       "    </tr>\n",
       "    <tr>\n",
       "      <th>2019-06-19</th>\n",
       "      <td>110000</td>\n",
       "      <td>109000</td>\n",
       "    </tr>\n",
       "    <tr>\n",
       "      <th>2019-06-18</th>\n",
       "      <td>483689</td>\n",
       "      <td>791946</td>\n",
       "    </tr>\n",
       "  </tbody>\n",
       "</table>\n",
       "</div>"
      ],
      "text/plain": [
       "                종가     거래량\n",
       "2019-06-21  113000  555850\n",
       "2019-06-20  111500  282163\n",
       "2019-06-19  110000  109000\n",
       "2019-06-18  483689  791946"
      ]
     },
     "execution_count": 7,
     "metadata": {},
     "output_type": "execute_result"
    }
   ],
   "source": [
    "# 데이터프레임이 여러 개인 경우 concat 함수를 사용하면 편리합니다.\n",
    "print(\"---concat메서드로 위아래 붙이기---\")\n",
    "df = pd.concat([df1, df2])\n",
    "df\n"
   ]
  },
  {
   "cell_type": "code",
<<<<<<< HEAD
   "execution_count": null,
=======
   "execution_count": 8,
>>>>>>> ca2e34985a2cec825b08150252181715ee35e921
   "metadata": {},
   "outputs": [
    {
     "name": "stdout",
     "output_type": "stream",
     "text": [
      "     업종    종목코드     종목명     현재가\n",
      "0  전기전자  005930    삼성전자   74400\n",
      "1    화학  051910    LG화학  896000\n",
      "2  전기전자  000660  SK하이닉스  101500\n",
      "     업종   등락률\n",
      "0    은행  2.92\n",
      "1    보험  0.37\n",
      "2    화학  0.06\n",
      "3  전기전자 -2.43\n"
     ]
    }
   ],
   "source": [
    "#Merge\n",
    "# 판다스의 merge는 데이터프레임을 '병합'합니다. \n",
    "# concat이 단순히 두 데이터프레임을 이어 붙이는 연결이라면 \n",
    "# merge는 특정 컬럼의 값을 기준으로 데이터를 병합합니다. \n",
    "from pandas import DataFrame\n",
    "import pandas as pd\n",
    "\n",
    "# 첫 번째 데이터프레임\n",
    "data = [\n",
    "    [\"전기전자\", \"005930\", \"삼성전자\", 74400],\n",
    "    [\"화학\", \"051910\", \"LG화학\", 896000],\n",
    "    [\"전기전자\", \"000660\", \"SK하이닉스\", 101500]\n",
    "]\n",
    "\n",
    "columns = [\"업종\", \"종목코드\", \"종목명\", \"현재가\"]\n",
    "df1 = DataFrame(data=data, columns=columns)\n",
    "\n",
    "# 두 번째 데이터프레임\n",
    "data = [\n",
    "    [\"은행\", 2.92],\n",
    "    [\"보험\", 0.37],\n",
    "    [\"화학\", 0.06],\n",
    "    [\"전기전자\", -2.43]\n",
    "]\n",
    "\n",
    "columns = [\"업종\",\"등락률\"]\n",
    "df2 = DataFrame(data=data, columns=columns)\n",
    "\n",
    "print( df1 )\n",
    "print( df2 )"
   ]
  },
  {
   "cell_type": "code",
<<<<<<< HEAD
   "execution_count": null,
=======
   "execution_count": 11,
>>>>>>> ca2e34985a2cec825b08150252181715ee35e921
   "metadata": {},
   "outputs": [
    {
     "name": "stdout",
     "output_type": "stream",
     "text": [
      "---merge메서드로 붙이기---\n"
     ]
    },
    {
     "data": {
      "text/html": [
       "<div>\n",
       "<style scoped>\n",
       "    .dataframe tbody tr th:only-of-type {\n",
       "        vertical-align: middle;\n",
       "    }\n",
       "\n",
       "    .dataframe tbody tr th {\n",
       "        vertical-align: top;\n",
       "    }\n",
       "\n",
       "    .dataframe thead th {\n",
       "        text-align: right;\n",
       "    }\n",
       "</style>\n",
       "<table border=\"1\" class=\"dataframe\">\n",
       "  <thead>\n",
       "    <tr style=\"text-align: right;\">\n",
       "      <th></th>\n",
       "      <th>업종</th>\n",
       "      <th>종목코드</th>\n",
       "      <th>종목명</th>\n",
       "      <th>현재가</th>\n",
       "      <th>등락률</th>\n",
       "    </tr>\n",
       "  </thead>\n",
       "  <tbody>\n",
       "    <tr>\n",
       "      <th>0</th>\n",
       "      <td>은행</td>\n",
       "      <td>NaN</td>\n",
       "      <td>NaN</td>\n",
       "      <td>NaN</td>\n",
       "      <td>2.92</td>\n",
       "    </tr>\n",
       "    <tr>\n",
       "      <th>1</th>\n",
       "      <td>보험</td>\n",
       "      <td>NaN</td>\n",
       "      <td>NaN</td>\n",
       "      <td>NaN</td>\n",
       "      <td>0.37</td>\n",
       "    </tr>\n",
       "    <tr>\n",
       "      <th>2</th>\n",
       "      <td>화학</td>\n",
       "      <td>051910</td>\n",
       "      <td>LG화학</td>\n",
       "      <td>896000.0</td>\n",
       "      <td>0.06</td>\n",
       "    </tr>\n",
       "    <tr>\n",
       "      <th>3</th>\n",
       "      <td>전기전자</td>\n",
       "      <td>005930</td>\n",
       "      <td>삼성전자</td>\n",
       "      <td>74400.0</td>\n",
       "      <td>-2.43</td>\n",
       "    </tr>\n",
       "    <tr>\n",
       "      <th>4</th>\n",
       "      <td>전기전자</td>\n",
       "      <td>000660</td>\n",
       "      <td>SK하이닉스</td>\n",
       "      <td>101500.0</td>\n",
       "      <td>-2.43</td>\n",
       "    </tr>\n",
       "  </tbody>\n",
       "</table>\n",
       "</div>"
      ],
      "text/plain": [
       "     업종    종목코드     종목명       현재가   등락률\n",
       "0    은행     NaN     NaN       NaN  2.92\n",
       "1    보험     NaN     NaN       NaN  0.37\n",
       "2    화학  051910    LG화학  896000.0  0.06\n",
       "3  전기전자  005930    삼성전자   74400.0 -2.43\n",
       "4  전기전자  000660  SK하이닉스  101500.0 -2.43"
      ]
     },
     "execution_count": 11,
     "metadata": {},
     "output_type": "execute_result"
    }
   ],
   "source": [
    "print(\"---merge메서드로 붙이기---\")\n",
    "df = pd.merge(left=df1, right=df2, how='right', on='업종')\n",
    "df"
   ]
  },
  {
   "cell_type": "code",
<<<<<<< HEAD
   "execution_count": null,
=======
   "execution_count": 13,
>>>>>>> ca2e34985a2cec825b08150252181715ee35e921
   "metadata": {},
   "outputs": [
    {
     "name": "stdout",
     "output_type": "stream",
     "text": [
      "     업종    종목코드   종목명     현재가\n",
      "0  전기전자  005930  삼성전자   74400\n",
      "1    화학  051910  LG화학  896000\n",
      "2  서비스업  035720   카카오  121500\n",
      "     업종   등락률\n",
      "0    은행  2.92\n",
      "1    보험  0.37\n",
      "2    화학  0.06\n",
      "3  전기전자 -2.43\n"
     ]
    }
   ],
   "source": [
    "# how 파라미터를 사용해서 합치는 방법을 지정할 수 있습니다. \n",
    "# 'inner' 모드를 사용하면 df1과 df2의 교집합, \n",
    "# 'outer' 모드를 사용하면 합집합으로 병합됩니다. \n",
    "# 모드에 따른 동작은 concat에서 사용해 본 것처럼 일관성 있게 \n",
    "# 설계돼 있습니다. \n",
    "# 추가로 merge에서 사용할 수 있는 left, right 옵션에 \n",
    "# 대해 알아봅시다. 추가 옵션에 사용할 데이터를 우선 정의합니다. \n",
    "# 이전 코드에서 df1의 데이터만 일부 변경했습니다.\n",
    "# 첫 번째 데이터프레임\n",
    "data = [\n",
    "    [\"전기전자\", \"005930\", \"삼성전자\", 74400],\n",
    "    [\"화학\", \"051910\", \"LG화학\", 896000],\n",
    "    [\"서비스업\", \"035720\", \"카카오\", 121500]\n",
    "]\n",
    "\n",
    "columns = [\"업종\", \"종목코드\", \"종목명\", \"현재가\"]\n",
    "df1 = DataFrame(data=data, columns=columns)\n",
    "\n",
    "# 두 번째 데이터프레임\n",
    "data = [\n",
    "    [\"은행\", 2.92],\n",
    "    [\"보험\", 0.37],\n",
    "    [\"화학\", 0.06],\n",
    "    [\"전기전자\", -2.43]\n",
    "]\n",
    "\n",
    "columns = [\"업종\", \"등락률\"]\n",
    "df2 = DataFrame(data=data, columns=columns)\n",
    "\n",
    "print(df1)\n",
    "print(df2)"
   ]
  },
  {
   "cell_type": "code",
<<<<<<< HEAD
   "execution_count": null,
=======
   "execution_count": 16,
>>>>>>> ca2e34985a2cec825b08150252181715ee35e921
   "metadata": {},
   "outputs": [
    {
     "name": "stdout",
     "output_type": "stream",
     "text": [
      "---merge메서드에서 how=left지정하기---\n"
     ]
    },
    {
     "data": {
      "text/html": [
       "<div>\n",
       "<style scoped>\n",
       "    .dataframe tbody tr th:only-of-type {\n",
       "        vertical-align: middle;\n",
       "    }\n",
       "\n",
       "    .dataframe tbody tr th {\n",
       "        vertical-align: top;\n",
       "    }\n",
       "\n",
       "    .dataframe thead th {\n",
       "        text-align: right;\n",
       "    }\n",
       "</style>\n",
       "<table border=\"1\" class=\"dataframe\">\n",
       "  <thead>\n",
       "    <tr style=\"text-align: right;\">\n",
       "      <th></th>\n",
       "      <th>업종</th>\n",
       "      <th>종목코드</th>\n",
       "      <th>종목명</th>\n",
       "      <th>현재가</th>\n",
       "      <th>등락률</th>\n",
       "    </tr>\n",
       "  </thead>\n",
       "  <tbody>\n",
       "    <tr>\n",
       "      <th>0</th>\n",
       "      <td>전기전자</td>\n",
       "      <td>005930</td>\n",
       "      <td>삼성전자</td>\n",
       "      <td>74400.0</td>\n",
       "      <td>-2.43</td>\n",
       "    </tr>\n",
       "    <tr>\n",
       "      <th>1</th>\n",
       "      <td>화학</td>\n",
       "      <td>051910</td>\n",
       "      <td>LG화학</td>\n",
       "      <td>896000.0</td>\n",
       "      <td>0.06</td>\n",
       "    </tr>\n",
       "    <tr>\n",
       "      <th>2</th>\n",
       "      <td>서비스업</td>\n",
       "      <td>035720</td>\n",
       "      <td>카카오</td>\n",
       "      <td>121500.0</td>\n",
       "      <td>NaN</td>\n",
       "    </tr>\n",
       "    <tr>\n",
       "      <th>3</th>\n",
       "      <td>은행</td>\n",
       "      <td>NaN</td>\n",
       "      <td>NaN</td>\n",
       "      <td>NaN</td>\n",
       "      <td>2.92</td>\n",
       "    </tr>\n",
       "    <tr>\n",
       "      <th>4</th>\n",
       "      <td>보험</td>\n",
       "      <td>NaN</td>\n",
       "      <td>NaN</td>\n",
       "      <td>NaN</td>\n",
       "      <td>0.37</td>\n",
       "    </tr>\n",
       "  </tbody>\n",
       "</table>\n",
       "</div>"
      ],
      "text/plain": [
       "     업종    종목코드   종목명       현재가   등락률\n",
       "0  전기전자  005930  삼성전자   74400.0 -2.43\n",
       "1    화학  051910  LG화학  896000.0  0.06\n",
       "2  서비스업  035720   카카오  121500.0   NaN\n",
       "3    은행     NaN   NaN       NaN  2.92\n",
       "4    보험     NaN   NaN       NaN  0.37"
      ]
     },
     "execution_count": 16,
     "metadata": {},
     "output_type": "execute_result"
    }
   ],
   "source": [
    "# 두 데이터프레임을 병합할 때 left 옵션을 사용해 보겠습니다. \n",
    "# 이는 left 파라미터에 입력된 데이터프레임 df1을 기준으로 \n",
    "# 두 데이터프레임을 병합합니다.\n",
    "print(\"---merge메서드에서 how=left지정하기---\")\n",
    "df = pd.merge(left=df1, right=df2, \n",
    "    how='outer', on='업종')\n",
    "df"
   ]
  },
  {
   "cell_type": "code",
   "execution_count": null,
   "metadata": {},
   "outputs": [
    {
     "name": "stdout",
     "output_type": "stream",
     "text": [
      "---merge메서드에서 how=right지정하기---\n"
     ]
    },
    {
     "data": {
      "text/html": [
       "<div>\n",
       "<style scoped>\n",
       "    .dataframe tbody tr th:only-of-type {\n",
       "        vertical-align: middle;\n",
       "    }\n",
       "\n",
       "    .dataframe tbody tr th {\n",
       "        vertical-align: top;\n",
       "    }\n",
       "\n",
       "    .dataframe thead th {\n",
       "        text-align: right;\n",
       "    }\n",
       "</style>\n",
       "<table border=\"1\" class=\"dataframe\">\n",
       "  <thead>\n",
       "    <tr style=\"text-align: right;\">\n",
       "      <th></th>\n",
       "      <th>업종</th>\n",
       "      <th>종목코드</th>\n",
       "      <th>종목명</th>\n",
       "      <th>현재가</th>\n",
       "      <th>등락률</th>\n",
       "    </tr>\n",
       "  </thead>\n",
       "  <tbody>\n",
       "    <tr>\n",
       "      <th>0</th>\n",
       "      <td>은행</td>\n",
       "      <td>NaN</td>\n",
       "      <td>NaN</td>\n",
       "      <td>NaN</td>\n",
       "      <td>2.92</td>\n",
       "    </tr>\n",
       "    <tr>\n",
       "      <th>1</th>\n",
       "      <td>보험</td>\n",
       "      <td>NaN</td>\n",
       "      <td>NaN</td>\n",
       "      <td>NaN</td>\n",
       "      <td>0.37</td>\n",
       "    </tr>\n",
       "    <tr>\n",
       "      <th>2</th>\n",
       "      <td>화학</td>\n",
       "      <td>051910</td>\n",
       "      <td>LG화학</td>\n",
       "      <td>896000.0</td>\n",
       "      <td>0.06</td>\n",
       "    </tr>\n",
       "    <tr>\n",
       "      <th>3</th>\n",
       "      <td>전기전자</td>\n",
       "      <td>005930</td>\n",
       "      <td>삼성전자</td>\n",
       "      <td>74400.0</td>\n",
       "      <td>-2.43</td>\n",
       "    </tr>\n",
       "    <tr>\n",
       "      <th>4</th>\n",
       "      <td>전기전자</td>\n",
       "      <td>000660</td>\n",
       "      <td>SK하이닉스</td>\n",
       "      <td>101500.0</td>\n",
       "      <td>-2.43</td>\n",
       "    </tr>\n",
       "  </tbody>\n",
       "</table>\n",
       "</div>"
      ],
      "text/plain": [
       "     업종    종목코드     종목명       현재가   등락률\n",
       "0    은행     NaN     NaN       NaN  2.92\n",
       "1    보험     NaN     NaN       NaN  0.37\n",
       "2    화학  051910    LG화학  896000.0  0.06\n",
       "3  전기전자  005930    삼성전자   74400.0 -2.43\n",
       "4  전기전자  000660  SK하이닉스  101500.0 -2.43"
      ]
     },
     "execution_count": 11,
     "metadata": {},
     "output_type": "execute_result"
    }
   ],
   "source": [
    "# 두 데이터프레임을 병합할 때 right 옵션을 사용해 보겠습니다. \n",
    "# 이는 right 파라미터에 입력된 데이터프레임 df1을 기준으로 \n",
    "# 두 데이터프레임을 병합합니다.\n",
    "print(\"---merge메서드에서 how=right지정하기---\")\n",
    "df = pd.merge(left=df1, right=df2, \n",
    "    how='right', on='업종')\n",
    "df"
   ]
  },
  {
   "cell_type": "code",
   "execution_count": null,
   "metadata": {},
   "outputs": [],
   "source": [
    "# 만약 두 데이터프레임의 컬럼이 다르다면 어떻게 해야 할까요? \n",
    "# 물론 컬럼의 이름을 변경하고 데이터프레임을 합칠 수 있지만, \n",
    "# 코드의 양만 많아집니다. \n",
    "# 다음 예제와 함께 merge의 옵션을 사용해서 한 번에 문제를 해결해 봅시다. \n",
    "# 이전 코드에서 두 번째 데이터프레임의 컬럼 이름만을 다르게 정의했습니다.\n",
    "# 첫 번째 데이터프레임\n",
    "data = [\n",
    "    [\"전기전자\", \"005930\", \"삼성전자\", 74400],\n",
    "    [\"화학\", \"051910\", \"LG화학\", 896000],\n",
    "    [\"서비스업\", \"035720\", \"카카오\", 121500]\n",
    "]\n",
    "\n",
    "columns = [\"업종\", \"종목코드\", \"종목명\", \"현재가\"]\n",
    "df1 = DataFrame(data=data, columns=columns)\n",
    "\n",
    "# 두 번째 데이터프레임\n",
    "data = [\n",
    "    [\"은행\", 2.92],\n",
    "    [\"보험\", 0.37],\n",
    "    [\"화학\", 0.06],\n",
    "    [\"전기전자\", -2.43]\n",
    "]\n",
    "\n",
    "columns = [\"항목\", \"등락률\"]\n",
    "df2 = DataFrame(data=data, columns=columns)"
   ]
  },
  {
   "cell_type": "code",
   "execution_count": null,
   "metadata": {},
   "outputs": [
    {
     "name": "stdout",
     "output_type": "stream",
     "text": [
      "---기준이 되는 컬럼명이 다른 경우---\n"
     ]
    },
    {
     "data": {
      "text/html": [
       "<div>\n",
       "<style scoped>\n",
       "    .dataframe tbody tr th:only-of-type {\n",
       "        vertical-align: middle;\n",
       "    }\n",
       "\n",
       "    .dataframe tbody tr th {\n",
       "        vertical-align: top;\n",
       "    }\n",
       "\n",
       "    .dataframe thead th {\n",
       "        text-align: right;\n",
       "    }\n",
       "</style>\n",
       "<table border=\"1\" class=\"dataframe\">\n",
       "  <thead>\n",
       "    <tr style=\"text-align: right;\">\n",
       "      <th></th>\n",
       "      <th>업종</th>\n",
       "      <th>종목코드</th>\n",
       "      <th>종목명</th>\n",
       "      <th>현재가</th>\n",
       "      <th>항목</th>\n",
       "      <th>등락률</th>\n",
       "    </tr>\n",
       "  </thead>\n",
       "  <tbody>\n",
       "    <tr>\n",
       "      <th>0</th>\n",
       "      <td>전기전자</td>\n",
       "      <td>005930</td>\n",
       "      <td>삼성전자</td>\n",
       "      <td>74400</td>\n",
       "      <td>전기전자</td>\n",
       "      <td>-2.43</td>\n",
       "    </tr>\n",
       "    <tr>\n",
       "      <th>1</th>\n",
       "      <td>화학</td>\n",
       "      <td>051910</td>\n",
       "      <td>LG화학</td>\n",
       "      <td>896000</td>\n",
       "      <td>화학</td>\n",
       "      <td>0.06</td>\n",
       "    </tr>\n",
       "  </tbody>\n",
       "</table>\n",
       "</div>"
      ],
      "text/plain": [
       "     업종    종목코드   종목명     현재가    항목   등락률\n",
       "0  전기전자  005930  삼성전자   74400  전기전자 -2.43\n",
       "1    화학  051910  LG화학  896000    화학  0.06"
      ]
     },
     "execution_count": 13,
     "metadata": {},
     "output_type": "execute_result"
    }
   ],
   "source": [
    "# 두 데이터프레임의 컬럼 이름이 다르기 때문에 합칠 기준이되는 각 컬럼의 이름을 \n",
    "# 모두 입력해야 합니다. \n",
    "# left_on와 right_on 파라미터에 두 컬럼 이름을 넣습니다.\n",
    "print(\"---기준이 되는 컬럼명이 다른 경우---\")\n",
    "df = pd.merge(left=df1, \n",
    "    right=df2, left_on='업종',\n",
    "    right_on='항목')\n",
    "df"
   ]
  },
  {
   "cell_type": "code",
   "execution_count": null,
   "metadata": {},
   "outputs": [
    {
     "data": {
      "text/html": [
       "<div>\n",
       "<style scoped>\n",
       "    .dataframe tbody tr th:only-of-type {\n",
       "        vertical-align: middle;\n",
       "    }\n",
       "\n",
       "    .dataframe tbody tr th {\n",
       "        vertical-align: top;\n",
       "    }\n",
       "\n",
       "    .dataframe thead th {\n",
       "        text-align: right;\n",
       "    }\n",
       "</style>\n",
       "<table border=\"1\" class=\"dataframe\">\n",
       "  <thead>\n",
       "    <tr style=\"text-align: right;\">\n",
       "      <th></th>\n",
       "      <th>key1</th>\n",
       "      <th>key2</th>\n",
       "      <th>data1</th>\n",
       "      <th>data2</th>\n",
       "    </tr>\n",
       "  </thead>\n",
       "  <tbody>\n",
       "    <tr>\n",
       "      <th>0</th>\n",
       "      <td>a</td>\n",
       "      <td>one</td>\n",
       "      <td>-1.124304</td>\n",
       "      <td>-1.559011</td>\n",
       "    </tr>\n",
       "    <tr>\n",
       "      <th>1</th>\n",
       "      <td>a</td>\n",
       "      <td>two</td>\n",
       "      <td>-1.602948</td>\n",
       "      <td>-0.264338</td>\n",
       "    </tr>\n",
       "    <tr>\n",
       "      <th>2</th>\n",
       "      <td>b</td>\n",
       "      <td>one</td>\n",
       "      <td>-0.585152</td>\n",
       "      <td>-0.610723</td>\n",
       "    </tr>\n",
       "    <tr>\n",
       "      <th>3</th>\n",
       "      <td>b</td>\n",
       "      <td>two</td>\n",
       "      <td>0.516357</td>\n",
       "      <td>0.225101</td>\n",
       "    </tr>\n",
       "    <tr>\n",
       "      <th>4</th>\n",
       "      <td>a</td>\n",
       "      <td>one</td>\n",
       "      <td>0.752153</td>\n",
       "      <td>-0.530584</td>\n",
       "    </tr>\n",
       "  </tbody>\n",
       "</table>\n",
       "</div>"
      ],
      "text/plain": [
       "  key1 key2     data1     data2\n",
       "0    a  one -1.124304 -1.559011\n",
       "1    a  two -1.602948 -0.264338\n",
       "2    b  one -0.585152 -0.610723\n",
       "3    b  two  0.516357  0.225101\n",
       "4    a  one  0.752153 -0.530584"
      ]
     },
     "execution_count": 14,
     "metadata": {},
     "output_type": "execute_result"
    }
   ],
   "source": [
    "#아래와 같은 간단한 데이터에 대한 통계를 구해봅니다. \n",
    "df = DataFrame({'key1':['a','a','b','b','a'], \n",
    "                'key2':['one','two','one','two','one'], \n",
    "                'data1':np.random.randn(5), \n",
    "                'data2':np.random.randn(5)})\n",
    "df"
   ]
  },
  {
   "cell_type": "code",
   "execution_count": null,
   "metadata": {},
   "outputs": [
    {
     "data": {
      "text/plain": [
       "<pandas.core.groupby.generic.SeriesGroupBy object at 0x000001F82BE33280>"
      ]
     },
     "execution_count": 15,
     "metadata": {},
     "output_type": "execute_result"
    }
   ],
   "source": [
    "#그룹으로 생성해서 집계된 데이터에 접근합니다. \n",
    "grouped = df.groupby(\"key1\")[\"data1\"] \n",
    "grouped "
   ]
  },
  {
   "cell_type": "code",
   "execution_count": null,
   "metadata": {},
   "outputs": [
    {
     "name": "stdout",
     "output_type": "stream",
     "text": [
      "key1\n",
      "a   -0.658367\n",
      "b   -0.034398\n",
      "Name: data1, dtype: float64\n",
      "key1\n",
      "a   -1.975100\n",
      "b   -0.068795\n",
      "Name: data1, dtype: float64\n",
      "key1\n",
      "a    3\n",
      "b    2\n",
      "Name: data1, dtype: int64\n"
     ]
    }
   ],
   "source": [
    "print(grouped.mean())\n",
    "print(grouped.sum())\n",
    "print(grouped.count())"
   ]
  },
  {
   "cell_type": "code",
   "execution_count": null,
   "metadata": {},
   "outputs": [],
   "source": []
  }
 ],
 "metadata": {
  "kernelspec": {
   "display_name": "Python 3",
   "language": "python",
   "name": "python3"
  },
  "language_info": {
   "codemirror_mode": {
    "name": "ipython",
    "version": 3
   },
   "file_extension": ".py",
   "mimetype": "text/x-python",
   "name": "python",
   "nbconvert_exporter": "python",
   "pygments_lexer": "ipython3",
   "version": "3.10.9"
  },
  "vscode": {
   "interpreter": {
    "hash": "369f2c481f4da34e4445cda3fffd2e751bd1c4d706f27375911949ba6bb62e1c"
   }
  }
 },
 "nbformat": 4,
 "nbformat_minor": 2
}
